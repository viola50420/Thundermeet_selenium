{
 "cells": [
  {
   "cell_type": "code",
   "execution_count": 1,
   "metadata": {},
   "outputs": [],
   "source": [
    "import time\n",
    "import json\n",
    "from selenium import webdriver\n",
    "from selenium.webdriver.common.by import By\n",
    "from selenium.webdriver.common.action_chains import ActionChains\n",
    "from selenium.webdriver.support import expected_conditions\n",
    "from selenium.webdriver.support.wait import WebDriverWait\n",
    "from selenium.webdriver.common.keys import Keys\n",
    "from selenium.webdriver.common.desired_capabilities import DesiredCapabilities\n",
    "\n",
    "from selenium.webdriver.common.keys import Keys\n",
    "import pickle\n",
    "from selenium.webdriver.support import expected_conditions as EC"
   ]
  },
  {
   "cell_type": "code",
   "execution_count": 44,
   "metadata": {},
   "outputs": [
    {
     "name": "stderr",
     "output_type": "stream",
     "text": [
      "C:\\Users\\tsuna\\AppData\\Local\\Temp\\ipykernel_18448\\1062840450.py:10: DeprecationWarning: find_element_by_* commands are deprecated. Please use find_element() instead\n",
      "  Browser.find_element_by_id('login_userId').send_keys(Userid)\n",
      "C:\\Users\\tsuna\\AppData\\Local\\Temp\\ipykernel_18448\\1062840450.py:11: DeprecationWarning: find_element_by_* commands are deprecated. Please use find_element() instead\n",
      "  Browser.find_element_by_id('login_password').send_keys(UserPass)\n",
      "C:\\Users\\tsuna\\AppData\\Local\\Temp\\ipykernel_18448\\1062840450.py:14: DeprecationWarning: find_element_by_* commands are deprecated. Please use find_element() instead\n",
      "  Browser.find_element_by_id('login_password').send_keys(Keys.ENTER)\n",
      "C:\\Users\\tsuna\\AppData\\Local\\Temp\\ipykernel_18448\\1062840450.py:17: DeprecationWarning: find_element_by_xpath is deprecated. Please use find_element(by=By.XPATH, value=xpath) instead\n",
      "  Browser.find_element_by_xpath('//*[@id=\"root\"]/nav/div[1]/button/span[2]').click()\n"
     ]
    },
    {
     "ename": "ElementClickInterceptedException",
     "evalue": "Message: element click intercepted: Element <span>...</span> is not clickable at point (388, 24). Other element would receive the click: <nav class=\"nav-bar\">...</nav>\n  (Session info: chrome=101.0.4951.67)\nStacktrace:\nBacktrace:\n\tOrdinal0 [0x00EEB8F3+2406643]\n\tOrdinal0 [0x00E7AF31+1945393]\n\tOrdinal0 [0x00D6C748+837448]\n\tOrdinal0 [0x00D9FA1B+1047067]\n\tOrdinal0 [0x00D9D9F8+1038840]\n\tOrdinal0 [0x00D9B6DB+1029851]\n\tOrdinal0 [0x00D9A439+1025081]\n\tOrdinal0 [0x00D90083+983171]\n\tOrdinal0 [0x00DB427C+1131132]\n\tOrdinal0 [0x00D8FA64+981604]\n\tOrdinal0 [0x00DB4494+1131668]\n\tOrdinal0 [0x00DC4682+1197698]\n\tOrdinal0 [0x00DB4096+1130646]\n\tOrdinal0 [0x00D8E636+976438]\n\tOrdinal0 [0x00D8F546+980294]\n\tGetHandleVerifier [0x01159612+2498066]\n\tGetHandleVerifier [0x0114C920+2445600]\n\tGetHandleVerifier [0x00F84F2A+579370]\n\tGetHandleVerifier [0x00F83D36+574774]\n\tOrdinal0 [0x00E81C0B+1973259]\n\tOrdinal0 [0x00E86688+1992328]\n\tOrdinal0 [0x00E86775+1992565]\n\tOrdinal0 [0x00E8F8D1+2029777]\n\tBaseThreadInitThunk [0x7704FA29+25]\n\tRtlGetAppContainerNamedObjectPath [0x77C47A7E+286]\n\tRtlGetAppContainerNamedObjectPath [0x77C47A4E+238]\n",
     "output_type": "error",
     "traceback": [
      "\u001b[1;31m---------------------------------------------------------------------------\u001b[0m",
      "\u001b[1;31mElementClickInterceptedException\u001b[0m          Traceback (most recent call last)",
      "\u001b[1;32mc:\\Users\\tsuna\\Downloads\\thunderMeat_pytest\\test_addevent.ipynb Cell 2'\u001b[0m in \u001b[0;36m<cell line: 17>\u001b[1;34m()\u001b[0m\n\u001b[0;32m     <a href='vscode-notebook-cell:/c%3A/Users/tsuna/Downloads/thunderMeat_pytest/test_addevent.ipynb#ch0000002?line=13'>14</a>\u001b[0m Browser\u001b[39m.\u001b[39mfind_element_by_id(\u001b[39m'\u001b[39m\u001b[39mlogin_password\u001b[39m\u001b[39m'\u001b[39m)\u001b[39m.\u001b[39msend_keys(Keys\u001b[39m.\u001b[39mENTER)\n\u001b[0;32m     <a href='vscode-notebook-cell:/c%3A/Users/tsuna/Downloads/thunderMeat_pytest/test_addevent.ipynb#ch0000002?line=15'>16</a>\u001b[0m time\u001b[39m.\u001b[39msleep(\u001b[39m7\u001b[39m)\n\u001b[1;32m---> <a href='vscode-notebook-cell:/c%3A/Users/tsuna/Downloads/thunderMeat_pytest/test_addevent.ipynb#ch0000002?line=16'>17</a>\u001b[0m Browser\u001b[39m.\u001b[39;49mfind_element_by_xpath(\u001b[39m'\u001b[39;49m\u001b[39m//*[@id=\u001b[39;49m\u001b[39m\"\u001b[39;49m\u001b[39mroot\u001b[39;49m\u001b[39m\"\u001b[39;49m\u001b[39m]/nav/div[1]/button/span[2]\u001b[39;49m\u001b[39m'\u001b[39;49m)\u001b[39m.\u001b[39;49mclick()\n\u001b[0;32m     <a href='vscode-notebook-cell:/c%3A/Users/tsuna/Downloads/thunderMeat_pytest/test_addevent.ipynb#ch0000002?line=17'>18</a>\u001b[0m time\u001b[39m.\u001b[39msleep(\u001b[39m5\u001b[39m)\n\u001b[0;32m     <a href='vscode-notebook-cell:/c%3A/Users/tsuna/Downloads/thunderMeat_pytest/test_addevent.ipynb#ch0000002?line=18'>19</a>\u001b[0m Browser\u001b[39m.\u001b[39mfind_element(By\u001b[39m.\u001b[39mID, \u001b[39m\"\u001b[39m\u001b[39meventName\u001b[39m\u001b[39m\"\u001b[39m)\u001b[39m.\u001b[39mclick()\n",
      "File \u001b[1;32m~\\AppData\\Local\\Programs\\Python\\Python310\\lib\\site-packages\\selenium\\webdriver\\remote\\webelement.py:81\u001b[0m, in \u001b[0;36mWebElement.click\u001b[1;34m(self)\u001b[0m\n\u001b[0;32m     <a href='file:///c%3A/Users/tsuna/AppData/Local/Programs/Python/Python310/lib/site-packages/selenium/webdriver/remote/webelement.py?line=78'>79</a>\u001b[0m \u001b[39mdef\u001b[39;00m \u001b[39mclick\u001b[39m(\u001b[39mself\u001b[39m) \u001b[39m-\u001b[39m\u001b[39m>\u001b[39m \u001b[39mNone\u001b[39;00m:\n\u001b[0;32m     <a href='file:///c%3A/Users/tsuna/AppData/Local/Programs/Python/Python310/lib/site-packages/selenium/webdriver/remote/webelement.py?line=79'>80</a>\u001b[0m     \u001b[39m\"\"\"Clicks the element.\"\"\"\u001b[39;00m\n\u001b[1;32m---> <a href='file:///c%3A/Users/tsuna/AppData/Local/Programs/Python/Python310/lib/site-packages/selenium/webdriver/remote/webelement.py?line=80'>81</a>\u001b[0m     \u001b[39mself\u001b[39;49m\u001b[39m.\u001b[39;49m_execute(Command\u001b[39m.\u001b[39;49mCLICK_ELEMENT)\n",
      "File \u001b[1;32m~\\AppData\\Local\\Programs\\Python\\Python310\\lib\\site-packages\\selenium\\webdriver\\remote\\webelement.py:740\u001b[0m, in \u001b[0;36mWebElement._execute\u001b[1;34m(self, command, params)\u001b[0m\n\u001b[0;32m    <a href='file:///c%3A/Users/tsuna/AppData/Local/Programs/Python/Python310/lib/site-packages/selenium/webdriver/remote/webelement.py?line=737'>738</a>\u001b[0m     params \u001b[39m=\u001b[39m {}\n\u001b[0;32m    <a href='file:///c%3A/Users/tsuna/AppData/Local/Programs/Python/Python310/lib/site-packages/selenium/webdriver/remote/webelement.py?line=738'>739</a>\u001b[0m params[\u001b[39m'\u001b[39m\u001b[39mid\u001b[39m\u001b[39m'\u001b[39m] \u001b[39m=\u001b[39m \u001b[39mself\u001b[39m\u001b[39m.\u001b[39m_id\n\u001b[1;32m--> <a href='file:///c%3A/Users/tsuna/AppData/Local/Programs/Python/Python310/lib/site-packages/selenium/webdriver/remote/webelement.py?line=739'>740</a>\u001b[0m \u001b[39mreturn\u001b[39;00m \u001b[39mself\u001b[39;49m\u001b[39m.\u001b[39;49m_parent\u001b[39m.\u001b[39;49mexecute(command, params)\n",
      "File \u001b[1;32m~\\AppData\\Local\\Programs\\Python\\Python310\\lib\\site-packages\\selenium\\webdriver\\remote\\webdriver.py:430\u001b[0m, in \u001b[0;36mWebDriver.execute\u001b[1;34m(self, driver_command, params)\u001b[0m\n\u001b[0;32m    <a href='file:///c%3A/Users/tsuna/AppData/Local/Programs/Python/Python310/lib/site-packages/selenium/webdriver/remote/webdriver.py?line=427'>428</a>\u001b[0m response \u001b[39m=\u001b[39m \u001b[39mself\u001b[39m\u001b[39m.\u001b[39mcommand_executor\u001b[39m.\u001b[39mexecute(driver_command, params)\n\u001b[0;32m    <a href='file:///c%3A/Users/tsuna/AppData/Local/Programs/Python/Python310/lib/site-packages/selenium/webdriver/remote/webdriver.py?line=428'>429</a>\u001b[0m \u001b[39mif\u001b[39;00m response:\n\u001b[1;32m--> <a href='file:///c%3A/Users/tsuna/AppData/Local/Programs/Python/Python310/lib/site-packages/selenium/webdriver/remote/webdriver.py?line=429'>430</a>\u001b[0m     \u001b[39mself\u001b[39;49m\u001b[39m.\u001b[39;49merror_handler\u001b[39m.\u001b[39;49mcheck_response(response)\n\u001b[0;32m    <a href='file:///c%3A/Users/tsuna/AppData/Local/Programs/Python/Python310/lib/site-packages/selenium/webdriver/remote/webdriver.py?line=430'>431</a>\u001b[0m     response[\u001b[39m'\u001b[39m\u001b[39mvalue\u001b[39m\u001b[39m'\u001b[39m] \u001b[39m=\u001b[39m \u001b[39mself\u001b[39m\u001b[39m.\u001b[39m_unwrap_value(\n\u001b[0;32m    <a href='file:///c%3A/Users/tsuna/AppData/Local/Programs/Python/Python310/lib/site-packages/selenium/webdriver/remote/webdriver.py?line=431'>432</a>\u001b[0m         response\u001b[39m.\u001b[39mget(\u001b[39m'\u001b[39m\u001b[39mvalue\u001b[39m\u001b[39m'\u001b[39m, \u001b[39mNone\u001b[39;00m))\n\u001b[0;32m    <a href='file:///c%3A/Users/tsuna/AppData/Local/Programs/Python/Python310/lib/site-packages/selenium/webdriver/remote/webdriver.py?line=432'>433</a>\u001b[0m     \u001b[39mreturn\u001b[39;00m response\n",
      "File \u001b[1;32m~\\AppData\\Local\\Programs\\Python\\Python310\\lib\\site-packages\\selenium\\webdriver\\remote\\errorhandler.py:247\u001b[0m, in \u001b[0;36mErrorHandler.check_response\u001b[1;34m(self, response)\u001b[0m\n\u001b[0;32m    <a href='file:///c%3A/Users/tsuna/AppData/Local/Programs/Python/Python310/lib/site-packages/selenium/webdriver/remote/errorhandler.py?line=244'>245</a>\u001b[0m         alert_text \u001b[39m=\u001b[39m value[\u001b[39m'\u001b[39m\u001b[39malert\u001b[39m\u001b[39m'\u001b[39m]\u001b[39m.\u001b[39mget(\u001b[39m'\u001b[39m\u001b[39mtext\u001b[39m\u001b[39m'\u001b[39m)\n\u001b[0;32m    <a href='file:///c%3A/Users/tsuna/AppData/Local/Programs/Python/Python310/lib/site-packages/selenium/webdriver/remote/errorhandler.py?line=245'>246</a>\u001b[0m     \u001b[39mraise\u001b[39;00m exception_class(message, screen, stacktrace, alert_text)  \u001b[39m# type: ignore[call-arg]  # mypy is not smart enough here\u001b[39;00m\n\u001b[1;32m--> <a href='file:///c%3A/Users/tsuna/AppData/Local/Programs/Python/Python310/lib/site-packages/selenium/webdriver/remote/errorhandler.py?line=246'>247</a>\u001b[0m \u001b[39mraise\u001b[39;00m exception_class(message, screen, stacktrace)\n",
      "\u001b[1;31mElementClickInterceptedException\u001b[0m: Message: element click intercepted: Element <span>...</span> is not clickable at point (388, 24). Other element would receive the click: <nav class=\"nav-bar\">...</nav>\n  (Session info: chrome=101.0.4951.67)\nStacktrace:\nBacktrace:\n\tOrdinal0 [0x00EEB8F3+2406643]\n\tOrdinal0 [0x00E7AF31+1945393]\n\tOrdinal0 [0x00D6C748+837448]\n\tOrdinal0 [0x00D9FA1B+1047067]\n\tOrdinal0 [0x00D9D9F8+1038840]\n\tOrdinal0 [0x00D9B6DB+1029851]\n\tOrdinal0 [0x00D9A439+1025081]\n\tOrdinal0 [0x00D90083+983171]\n\tOrdinal0 [0x00DB427C+1131132]\n\tOrdinal0 [0x00D8FA64+981604]\n\tOrdinal0 [0x00DB4494+1131668]\n\tOrdinal0 [0x00DC4682+1197698]\n\tOrdinal0 [0x00DB4096+1130646]\n\tOrdinal0 [0x00D8E636+976438]\n\tOrdinal0 [0x00D8F546+980294]\n\tGetHandleVerifier [0x01159612+2498066]\n\tGetHandleVerifier [0x0114C920+2445600]\n\tGetHandleVerifier [0x00F84F2A+579370]\n\tGetHandleVerifier [0x00F83D36+574774]\n\tOrdinal0 [0x00E81C0B+1973259]\n\tOrdinal0 [0x00E86688+1992328]\n\tOrdinal0 [0x00E86775+1992565]\n\tOrdinal0 [0x00E8F8D1+2029777]\n\tBaseThreadInitThunk [0x7704FA29+25]\n\tRtlGetAppContainerNamedObjectPath [0x77C47A7E+286]\n\tRtlGetAppContainerNamedObjectPath [0x77C47A4E+238]\n"
     ]
    }
   ],
   "source": [
    "Browser = webdriver.Chrome()\n",
    "LoginUrl= ('https://thundermeet.netlify.app')\n",
    "Userid = ('1234')\n",
    "UserPass= ('1234')\n",
    "Browser.get(LoginUrl)\n",
    "\n",
    "Browser.execute_script(\"document.body.style.zoom='75%'\")\n",
    "Browser.set_window_size(1920, 1200)\n",
    "time.sleep(1)\n",
    "Browser.find_element_by_id('login_userId').send_keys(Userid)\n",
    "Browser.find_element_by_id('login_password').send_keys(UserPass)\n",
    "\n",
    "time.sleep(2)\n",
    "Browser.find_element_by_id('login_password').send_keys(Keys.ENTER)\n",
    "\n",
    "time.sleep(7)\n",
    "Browser.find_element_by_xpath('//*[@id=\"root\"]/nav/div[1]/button/span[2]').click()\n",
    "time.sleep(5)\n",
    "Browser.find_element(By.ID, \"eventName\").click()\n",
    "Browser.find_element(By.ID, \"eventName\").send_keys(\"event\")\n",
    "Browser.find_element(By.CSS_SELECTOR, \".ant-picker-input-active > input\").click()\n",
    "time.sleep(1)\n",
    "\n",
    "Browser.find_element(By.XPATH, '/html/body/div[3]/div/div/div/div[2]/div/div[1]/div/div[2]/table/tbody/tr[5]/td[1]/div').click()\n",
    "time.sleep(1)\n",
    "Browser.find_element(By.XPATH, \"/html/body/div[3]/div/div/div/div[2]/div/div[1]/div/div[2]/table/tbody/tr[5]/td[3]/div\").click()\n",
    "time.sleep(1)\n",
    "Browser.find_element(By.CSS_SELECTOR, \".ant-btn-primary > span\").click()\n",
    "time.sleep(1)\n",
    "Browser.find_element(By.CSS_SELECTOR, \".gotit-button > span\").click()\n",
    "time.sleep(3)\n",
    "\n",
    "Browser.find_element(By.XPATH ,'//*[@id=\"root\"]/div/span/button[1]/span[2]').click()\n",
    "time.sleep(3)\n",
    "Browser.find_element(By.XPATH ,'/html/body/div[3]/div/div[2]/div/div[2]/div[1]/div/div[3]/img').click()\n",
    "time.sleep(3)\n",
    "Browser.find_element(By.XPATH ,'/html/body/div[4]/div/div[2]/div/div[2]/div[1]/div/div[1]/p[3]').click()\n",
    "\n",
    "time.sleep(1)\n",
    "Browser.find_element(By.XPATH ,'/html/body/div[4]/div/div[2]/div/div[2]/div[1]/div/div[1]/p[2]').click()\n",
    "time.sleep(1)\n",
    "\n",
    "Browser.find_element(By.XPATH ,'/html/body/div[4]/div/div[2]/div/div[2]/div[2]/button[2]/span').click()\n",
    "time.sleep(3)\n",
    "Browser.find_element(By.XPATH ,'//*[@id=\"root\"]/div/div[2]/button').click()\n",
    "time.sleep(2)\n",
    "Browser.find_element(By.XPATH ,'//*[@id=\"root\"]/div/span/button[1]/span[2]').click()\n",
    "time.sleep(1)\n",
    "\n",
    "Browser.find_element(By.XPATH ,'/html/body/div[3]/div/div[2]/div/div[2]/div[2]/form/div/div[2]/div/div/div/div').click()\n",
    "Browser.find_element(By.XPATH ,'/html/body/div[4]/div/div/div/div[2]/div[1]/div/div/div[1]/div').click()\n",
    "Browser.find_element(By.XPATH ,'/html/body/div[3]/div/div[2]/div/div[2]/div[3]/button[2]/span').click()\n",
    "# time.sleep(1)\n",
    "# Browser.find_element(By.XPATH ,'/html/body/div[4]/div/div/ul/li[1]').click()\n",
    "# time.sleep(1)\n",
    "# Browser.find_element(By.XPATH ,'//*[@id=\"root\"]/div/div/div[3]/div[2]/button[2]').click()\n",
    "\n"
   ]
  },
  {
   "cell_type": "code",
   "execution_count": null,
   "metadata": {},
   "outputs": [],
   "source": []
  },
  {
   "cell_type": "code",
   "execution_count": null,
   "metadata": {},
   "outputs": [],
   "source": []
  }
 ],
 "metadata": {
  "interpreter": {
   "hash": "cfccfc53674a8effc62a41320f9d0ed45b43a9374d61f4ae21a36ee2a05d9784"
  },
  "kernelspec": {
   "display_name": "Python 3.10.4 64-bit",
   "language": "python",
   "name": "python3"
  },
  "language_info": {
   "codemirror_mode": {
    "name": "ipython",
    "version": 3
   },
   "file_extension": ".py",
   "mimetype": "text/x-python",
   "name": "python",
   "nbconvert_exporter": "python",
   "pygments_lexer": "ipython3",
   "version": "3.10.4"
  },
  "orig_nbformat": 4
 },
 "nbformat": 4,
 "nbformat_minor": 2
}
